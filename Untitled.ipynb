{
 "cells": [
  {
   "cell_type": "code",
   "execution_count": 3,
   "id": "014bb168-8856-4332-9e9c-8f04db37573b",
   "metadata": {
    "collapsed": false
   },
   "outputs": [],
   "source": [
    "from PIL import Image"
   ]
  },
  {
   "cell_type": "code",
   "execution_count": 4,
   "id": "afd02538-6fb2-4a30-80e8-4f734e529fce",
   "metadata": {
    "collapsed": false
   },
   "outputs": [
    {
     "data": {
      "text/plain": [
       "(1280, 220)"
      ]
     },
     "execution_count": 4,
     "metadata": {},
     "output_type": "execute_result"
    }
   ],
   "source": [
    "bg = Image.open(\"Static/Thumbnails/askreddit.png\")\n",
    "fg = Image.open(\"Static/Thumbnails/Selection.png\")\n",
    "\n",
    "\n",
    "#bg.paste(fg, (30, 340))\n",
    "#bg.show()\n",
    "\n",
    "ratio = 1280/fg.size[0]\n",
    "\n",
    "newsize = (int(fg.size[0]*ratio), int(fg.size[1]*ratio))\n",
    "newsize"
   ]
  },
  {
   "cell_type": "code",
   "execution_count": 5,
   "id": "fc2b601f-aac0-4a7b-b22e-b63667156745",
   "metadata": {
    "collapsed": false
   },
   "outputs": [],
   "source": [
    "from PIL import ImageDraw, ImageFont"
   ]
  },
  {
   "cell_type": "code",
   "execution_count": 5,
   "id": "3309263f-9d51-4e3c-8242-208eff6049ab",
   "metadata": {
    "collapsed": false
   },
   "outputs": [],
   "source": []
  },
  {
   "cell_type": "code",
   "execution_count": 20,
   "id": "57c55efe-2a00-4805-a39d-87501f5295bd",
   "metadata": {
    "collapsed": false
   },
   "outputs": [],
   "source": [
    "def setTextSize(text, fontsize=80, spacing=50):\n",
    "    lineMax, newlineMax = 25, 3\n",
    "    while True:\n",
    "        tokens = text.split(\" \")\n",
    "        \n",
    "        lineSize, newlineCount, retval = 0, 1, \"\"\n",
    "        for i, t in enumerate(tokens):        \n",
    "            if lineSize + len(t) > lineMax:\n",
    "                t = \"\\n\" + t + \" \"\n",
    "                lineSize = len(t)\n",
    "                newlineCount += 1\n",
    "                \n",
    "            else:\n",
    "                t = t+ \" \"\n",
    "                lineSize += len(t)\n",
    "\n",
    "            retval = retval + t\n",
    "\n",
    "        if spacing > spacing - 20*(newlineMax - newlineCount):\n",
    "            return fontsize, spacing, retval\n",
    "        \n",
    "        fontsize -= 10\n",
    "        newlineMax += 3\n",
    "        lineMax += 4\n",
    "        spacing -= 10\n",
    "\n",
    "    \n",
    "\n",
    "        \n",
    "        \n",
    "\n",
    "limit = 22\n",
    "\n",
    "bg = Image.open(\"Static/Thumbnails/askreddit2.png\")\n",
    "fontsize, spacing, text = setTextSize(\n",
    "    text=\"What's one thing you would treat yourself to regularly if money was no object?\"\n",
    ")\n",
    "\n",
    "draw = ImageDraw.Draw(bg)\n",
    "font = ImageFont.truetype(\"Static/font.ttf\", fontsize)\n",
    "draw.text((40, 240),text5,(255,155,255),font=font, spacing=spacing)\n",
    "bg.show()"
   ]
  },
  {
   "cell_type": "code",
   "execution_count": 29,
   "id": "40932a46-dfbd-4da3-8843-885927bf14a2",
   "metadata": {
    "collapsed": false
   },
   "outputs": [],
   "source": [
    "bg.paste(rs, (30, 340))\n",
    "bg.show()"
   ]
  },
  {
   "cell_type": "code",
   "execution_count": null,
   "id": "e2eb3df8-1fc9-432b-8533-67ab3cc60ef6",
   "metadata": {
    "collapsed": false
   },
   "outputs": [],
   "source": []
  }
 ],
 "metadata": {
  "kernelspec": {
   "argv": [
    "python",
    "-m",
    "ipykernel_launcher",
    "-f",
    "{connection_file}"
   ],
   "display_name": "Python 3 (ipykernel)",
   "env": null,
   "interrupt_mode": "signal",
   "language": "python",
   "metadata": {
    "debugger": true
   },
   "name": "python3"
  },
  "name": "Untitled.ipynb"
 },
 "nbformat": 4,
 "nbformat_minor": 5
}
