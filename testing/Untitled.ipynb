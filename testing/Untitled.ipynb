{
 "cells": [
  {
   "cell_type": "code",
   "execution_count": 34,
   "id": "2ffbdfe4-084e-4190-8490-1fb2ef0682d7",
   "metadata": {
    "collapsed": false
   },
   "outputs": [],
   "source": [
    "from selenium import webdriver\n",
    "from selenium.webdriver.common.by import By\n",
    "from selenium.common.exceptions import InvalidArgumentException, StaleElementReferenceException, NoSuchElementException\n",
    "\n",
    "from urllib.parse import urlsplit\n"
   ]
  },
  {
   "cell_type": "code",
   "execution_count": 36,
   "id": "584c1474-2f55-486e-9004-0914d8430d1b",
   "metadata": {
    "collapsed": false
   },
   "outputs": [
    {
     "name": "stdout",
     "output_type": "stream",
     "text": [
      "('What are some places where no children should be allowed?', 'https://www.reddit.com/r/AskReddit/comments/1072tg7/what_are_some_places_where_no_children_should_be/')\n"
     ]
    },
    {
     "name": "stdout",
     "output_type": "stream",
     "text": [
      "('What are some red flags in an interview that reveals the job is toxic?', 'https://www.reddit.com/r/AskReddit/comments/106i2pp/what_are_some_red_flags_in_an_interview_that/')\n",
      "('What country has the most unappetizing cuisines?', 'https://www.reddit.com/r/AskReddit/comments/106s4zo/what_country_has_the_most_unappetizing_cuisines/')\n",
      "('Mens of reddit, how do you feel about dating a woman taller than you?', 'https://www.reddit.com/r/AskReddit/comments/107f87f/mens_of_reddit_how_do_you_feel_about_dating_a/')\n",
      "('What celebrities do you hate?', 'https://www.reddit.com/r/AskReddit/comments/106wyal/what_celebrities_do_you_hate/')\n",
      "('What instantly makes you dislike someone?', 'https://www.reddit.com/r/AskReddit/comments/1079bg6/what_instantly_makes_you_dislike_someone/')\n"
     ]
    },
    {
     "name": "stdout",
     "output_type": "stream",
     "text": [
      "(\"What's a movie you watched several times, but you still enjoy it?\", 'https://www.reddit.com/r/AskReddit/comments/106vku9/whats_a_movie_you_watched_several_times_but_you/')\n",
      "(\"What are the WORST candy's in the world?\", 'https://www.reddit.com/r/AskReddit/comments/106z7f2/what_are_the_worst_candys_in_the_world/')\n",
      "('What are some of the creepiest Rabbit Holes you have come across?', 'https://www.reddit.com/r/AskReddit/comments/106yton/what_are_some_of_the_creepiest_rabbit_holes_you/')\n",
      "('What is ok to be addicted to?', 'https://www.reddit.com/r/AskReddit/comments/106s5u7/what_is_ok_to_be_addicted_to/')\n",
      "(\"What's the hardest lesson you've learned as an adult?\", 'https://www.reddit.com/r/AskReddit/comments/107hf84/whats_the_hardest_lesson_youve_learned_as_an_adult/')\n"
     ]
    },
    {
     "name": "stdout",
     "output_type": "stream",
     "text": [
      "('Your cause of death and death date is written on a piece of paper. Do you want to know, and why or why not?', 'https://www.reddit.com/r/AskReddit/comments/107dp1t/your_cause_of_death_and_death_date_is_written_on/')\n",
      "(\"What's something from the early 2000s that deserves a comeback?\", 'https://www.reddit.com/r/AskReddit/comments/107gn9m/whats_something_from_the_early_2000s_that/')\n"
     ]
    }
   ],
   "source": [
    "class RedditScrapper:\n",
    "    OPTIONS = None\n",
    "    DRIVER = None\n",
    "    \n",
    "    def __init__(self):\n",
    "        self.OPTIONS = webdriver.ChromeOptions()\n",
    "        self.OPTIONS.add_argument(\"--disable-notifications\")\n",
    "        self.OPTIONS.add_argument(\"--disable-popup-blocking\")\n",
    "        self.OPTIONS.add_argument(\"--headless\")\n",
    "        self.OPTIONS.add_argument(\"--disable-gpu\")\n",
    "\n",
    "        self.DRIVER = webdriver.Chrome(options=self.OPTIONS)\n",
    "        self.DRIVER.implicitly_wait(10)\n",
    "\n",
    "    def scrapUrl(self, url):\n",
    "        self.DRIVER.get(url)\n",
    "        content = self.DRIVER.find_element(By.ID, \"AppRouter-main-content\")\n",
    "        return content\n",
    "\n",
    "\n",
    "    def getAllPosts(self, content):  # parent div of data-scroller-first\n",
    "        xpath = \".//div[4]/div[1]/div[4]\"\n",
    "        return content.find_element(By.XPATH, xpath)\n",
    "\n",
    "    def getPost(self, posts, idx):  # iterate from 1\n",
    "        xpath = f\".//div[{idx}]\"\n",
    "        return posts.find_element(By.XPATH, xpath)\n",
    "        \n",
    "\n",
    "    def getPostData(self, post):\n",
    "        xpath = \"div/div/div[3]/div[2]/div[1]/a\"\n",
    "        link = post.find_element(By.XPATH, xpath).get_attribute(\"href\")\n",
    "        \n",
    "        xpath = \"div/div/div[3]/div[2]/div[1]/a/div/h3\"\n",
    "        title = post.find_element(By.XPATH, xpath).text\n",
    "\n",
    "\n",
    "        return title, link\n",
    "\n",
    "\n",
    "redditScrapper = RedditScrapper()\n",
    "content = redditScrapper.scrapUrl(\"https://reddit.com/r/AskReddit/\")\n",
    "all_posts = redditScrapper.getAllPosts(content)\n",
    "\n",
    "for i in range(2, 20):\n",
    "    try:\n",
    "        post = redditScrapper.getPost(all_posts, i)\n",
    "        print(redditScrapper.getPostData(post))\n",
    "    except NoSuchElementException:\n",
    "        pass\n"
   ]
  },
  {
   "cell_type": "code",
   "execution_count": 2,
   "id": "dc846d27-b3b9-48f2-b0cb-7a014b1d2064",
   "metadata": {
    "collapsed": false
   },
   "outputs": [
    {
     "name": "stdout",
     "output_type": "stream",
     "text": [
      "[2, 3, 4, 5, 6, 7, 8, 9]\n"
     ]
    }
   ],
   "source": [
    "l = [i for i in range(0,10)][1:]\n",
    "print(l)"
   ]
  },
  {
   "cell_type": "code",
   "execution_count": null,
   "id": "6dd8e8df-103e-4a34-8b75-bf391e6b9853",
   "metadata": {
    "collapsed": false
   },
   "outputs": [],
   "source": []
  }
 ],
 "metadata": {
  "kernelspec": {
   "argv": [
    "python",
    "-m",
    "ipykernel_launcher",
    "-f",
    "{connection_file}"
   ],
   "display_name": "Python 3 (ipykernel)",
   "env": null,
   "interrupt_mode": "signal",
   "language": "python",
   "metadata": {
    "debugger": true
   },
   "name": "python3"
  },
  "name": "Untitled.ipynb"
 },
 "nbformat": 4,
 "nbformat_minor": 5
}
