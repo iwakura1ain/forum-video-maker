{
 "cells": [
  {
   "cell_type": "code",
   "execution_count": 1,
   "id": "2ffbdfe4-084e-4190-8490-1fb2ef0682d7",
   "metadata": {
    "collapsed": false
   },
   "outputs": [],
   "source": [
    "from selenium import webdriver\n",
    "from selenium.webdriver.common.by import By\n",
    "from selenium.common.exceptions import InvalidArgumentException, StaleElementReferenceException, NoSuchElementException\n",
    "\n",
    "from urllib.parse import urlsplit\n"
   ]
  },
  {
   "cell_type": "code",
   "execution_count": 2,
   "id": "c44bb7cd-f902-4c4c-81fb-120c3e0e9ea8",
   "metadata": {
    "collapsed": false
   },
   "outputs": [
    {
     "ename": "NoSuchElementException",
     "evalue": "Message: no such element: Unable to locate element: {\"method\":\"xpath\",\"selector\":\".//div[@data-scroller-first='']\"}\n  (Session info: headless chrome=109.0.5414.74)\nStacktrace:\n#0 0x561f4886ea74 <unknown>\n#1 0x561f48648b62 <unknown>\n#2 0x561f48684703 <unknown>\n#3 0x561f48684801 <unknown>\n#4 0x561f4867a138 <unknown>\n#5 0x561f486a6c6d <unknown>\n#6 0x561f4867a062 <unknown>\n#7 0x561f486a6ede <unknown>\n#8 0x561f486beb2d <unknown>\n#9 0x561f486a69e3 <unknown>\n#10 0x561f486781ad <unknown>\n#11 0x561f486796f3 <unknown>\n#12 0x561f488b524d <unknown>\n#13 0x561f488b7785 <unknown>\n#14 0x561f488b7152 <unknown>\n#15 0x561f488b7ee5 <unknown>\n#16 0x561f488a2886 <unknown>\n#17 0x561f488b82d1 <unknown>\n#18 0x561f48895f42 <unknown>\n#19 0x561f488d3597 <unknown>\n#20 0x561f488d3760 <unknown>\n#21 0x561f488ee08d <unknown>\n#22 0x7f3708a9f8fd <unknown>\n",
     "output_type": "error",
     "traceback": [
      "\u001b[0;31m---------------------------------------------------------------------------\u001b[0m",
      "\u001b[0;31mNoSuchElementException\u001b[0m                    Traceback (most recent call last)",
      "Cell \u001b[0;32mIn[2], line 20\u001b[0m\n\u001b[1;32m     17\u001b[0m         \u001b[38;5;28mprint\u001b[39m(parent\u001b[38;5;241m.\u001b[39mget_attribute(\u001b[38;5;124m\"\u001b[39m\u001b[38;5;124mclass\u001b[39m\u001b[38;5;124m\"\u001b[39m))\n\u001b[1;32m     19\u001b[0m test \u001b[38;5;241m=\u001b[39m temp()\n\u001b[0;32m---> 20\u001b[0m \u001b[43mtest\u001b[49m\u001b[38;5;241;43m.\u001b[39;49m\u001b[43mcheck\u001b[49m\u001b[43m(\u001b[49m\u001b[43m)\u001b[49m\n",
      "Cell \u001b[0;32mIn[2], line 15\u001b[0m, in \u001b[0;36mtemp.check\u001b[0;34m(self)\u001b[0m\n\u001b[1;32m     13\u001b[0m \u001b[38;5;28mself\u001b[39m\u001b[38;5;241m.\u001b[39mDRIVER\u001b[38;5;241m.\u001b[39mget(\u001b[38;5;124m\"\u001b[39m\u001b[38;5;124mhttps://www.reddit.com/r/AskReddit/comments/10ej6ap/people_of_reddit_who_are_anti_weed_why/\u001b[39m\u001b[38;5;124m\"\u001b[39m)\n\u001b[1;32m     14\u001b[0m base \u001b[38;5;241m=\u001b[39m \u001b[38;5;28mself\u001b[39m\u001b[38;5;241m.\u001b[39mDRIVER\u001b[38;5;241m.\u001b[39mfind_element(By\u001b[38;5;241m.\u001b[39mXPATH, \u001b[38;5;124m\"\u001b[39m\u001b[38;5;124m.//div[@data-adclicklocation=\u001b[39m\u001b[38;5;124m'\u001b[39m\u001b[38;5;124mtitle\u001b[39m\u001b[38;5;124m'\u001b[39m\u001b[38;5;124m]\u001b[39m\u001b[38;5;124m\"\u001b[39m)\n\u001b[0;32m---> 15\u001b[0m first \u001b[38;5;241m=\u001b[39m \u001b[43mbase\u001b[49m\u001b[38;5;241;43m.\u001b[39;49m\u001b[43mfind_element\u001b[49m\u001b[43m(\u001b[49m\u001b[43mBy\u001b[49m\u001b[38;5;241;43m.\u001b[39;49m\u001b[43mXPATH\u001b[49m\u001b[43m,\u001b[49m\u001b[43m \u001b[49m\u001b[38;5;124;43m\"\u001b[39;49m\u001b[38;5;124;43m.//div[@data-scroller-first=\u001b[39;49m\u001b[38;5;124;43m'\u001b[39;49m\u001b[38;5;124;43m'\u001b[39;49m\u001b[38;5;124;43m]\u001b[39;49m\u001b[38;5;124;43m\"\u001b[39;49m\u001b[43m)\u001b[49m\n\u001b[1;32m     16\u001b[0m parent \u001b[38;5;241m=\u001b[39m first\u001b[38;5;241m.\u001b[39mfind_element(By\u001b[38;5;241m.\u001b[39mXPATH, \u001b[38;5;124m\"\u001b[39m\u001b[38;5;124m.//..\u001b[39m\u001b[38;5;124m\"\u001b[39m)\n\u001b[1;32m     17\u001b[0m \u001b[38;5;28mprint\u001b[39m(parent\u001b[38;5;241m.\u001b[39mget_attribute(\u001b[38;5;124m\"\u001b[39m\u001b[38;5;124mclass\u001b[39m\u001b[38;5;124m\"\u001b[39m))\n",
      "File \u001b[0;32m~/.local/lib/python3.10/site-packages/selenium/webdriver/remote/webelement.py:433\u001b[0m, in \u001b[0;36mWebElement.find_element\u001b[0;34m(self, by, value)\u001b[0m\n\u001b[1;32m    430\u001b[0m     by \u001b[38;5;241m=\u001b[39m By\u001b[38;5;241m.\u001b[39mCSS_SELECTOR\n\u001b[1;32m    431\u001b[0m     value \u001b[38;5;241m=\u001b[39m \u001b[38;5;124m'\u001b[39m\u001b[38;5;124m[name=\u001b[39m\u001b[38;5;124m\"\u001b[39m\u001b[38;5;132;01m%s\u001b[39;00m\u001b[38;5;124m\"\u001b[39m\u001b[38;5;124m]\u001b[39m\u001b[38;5;124m'\u001b[39m \u001b[38;5;241m%\u001b[39m value\n\u001b[0;32m--> 433\u001b[0m \u001b[38;5;28;01mreturn\u001b[39;00m \u001b[38;5;28;43mself\u001b[39;49m\u001b[38;5;241;43m.\u001b[39;49m\u001b[43m_execute\u001b[49m\u001b[43m(\u001b[49m\u001b[43mCommand\u001b[49m\u001b[38;5;241;43m.\u001b[39;49m\u001b[43mFIND_CHILD_ELEMENT\u001b[49m\u001b[43m,\u001b[49m\u001b[43m \u001b[49m\u001b[43m{\u001b[49m\u001b[38;5;124;43m\"\u001b[39;49m\u001b[38;5;124;43musing\u001b[39;49m\u001b[38;5;124;43m\"\u001b[39;49m\u001b[43m:\u001b[49m\u001b[43m \u001b[49m\u001b[43mby\u001b[49m\u001b[43m,\u001b[49m\u001b[43m \u001b[49m\u001b[38;5;124;43m\"\u001b[39;49m\u001b[38;5;124;43mvalue\u001b[39;49m\u001b[38;5;124;43m\"\u001b[39;49m\u001b[43m:\u001b[49m\u001b[43m \u001b[49m\u001b[43mvalue\u001b[49m\u001b[43m}\u001b[49m\u001b[43m)\u001b[49m[\u001b[38;5;124m\"\u001b[39m\u001b[38;5;124mvalue\u001b[39m\u001b[38;5;124m\"\u001b[39m]\n",
      "File \u001b[0;32m~/.local/lib/python3.10/site-packages/selenium/webdriver/remote/webelement.py:410\u001b[0m, in \u001b[0;36mWebElement._execute\u001b[0;34m(self, command, params)\u001b[0m\n\u001b[1;32m    408\u001b[0m     params \u001b[38;5;241m=\u001b[39m {}\n\u001b[1;32m    409\u001b[0m params[\u001b[38;5;124m\"\u001b[39m\u001b[38;5;124mid\u001b[39m\u001b[38;5;124m\"\u001b[39m] \u001b[38;5;241m=\u001b[39m \u001b[38;5;28mself\u001b[39m\u001b[38;5;241m.\u001b[39m_id\n\u001b[0;32m--> 410\u001b[0m \u001b[38;5;28;01mreturn\u001b[39;00m \u001b[38;5;28;43mself\u001b[39;49m\u001b[38;5;241;43m.\u001b[39;49m\u001b[43m_parent\u001b[49m\u001b[38;5;241;43m.\u001b[39;49m\u001b[43mexecute\u001b[49m\u001b[43m(\u001b[49m\u001b[43mcommand\u001b[49m\u001b[43m,\u001b[49m\u001b[43m \u001b[49m\u001b[43mparams\u001b[49m\u001b[43m)\u001b[49m\n",
      "File \u001b[0;32m~/.local/lib/python3.10/site-packages/selenium/webdriver/remote/webdriver.py:444\u001b[0m, in \u001b[0;36mWebDriver.execute\u001b[0;34m(self, driver_command, params)\u001b[0m\n\u001b[1;32m    442\u001b[0m response \u001b[38;5;241m=\u001b[39m \u001b[38;5;28mself\u001b[39m\u001b[38;5;241m.\u001b[39mcommand_executor\u001b[38;5;241m.\u001b[39mexecute(driver_command, params)\n\u001b[1;32m    443\u001b[0m \u001b[38;5;28;01mif\u001b[39;00m response:\n\u001b[0;32m--> 444\u001b[0m     \u001b[38;5;28;43mself\u001b[39;49m\u001b[38;5;241;43m.\u001b[39;49m\u001b[43merror_handler\u001b[49m\u001b[38;5;241;43m.\u001b[39;49m\u001b[43mcheck_response\u001b[49m\u001b[43m(\u001b[49m\u001b[43mresponse\u001b[49m\u001b[43m)\u001b[49m\n\u001b[1;32m    445\u001b[0m     response[\u001b[38;5;124m\"\u001b[39m\u001b[38;5;124mvalue\u001b[39m\u001b[38;5;124m\"\u001b[39m] \u001b[38;5;241m=\u001b[39m \u001b[38;5;28mself\u001b[39m\u001b[38;5;241m.\u001b[39m_unwrap_value(response\u001b[38;5;241m.\u001b[39mget(\u001b[38;5;124m\"\u001b[39m\u001b[38;5;124mvalue\u001b[39m\u001b[38;5;124m\"\u001b[39m, \u001b[38;5;28;01mNone\u001b[39;00m))\n\u001b[1;32m    446\u001b[0m     \u001b[38;5;28;01mreturn\u001b[39;00m response\n",
      "File \u001b[0;32m~/.local/lib/python3.10/site-packages/selenium/webdriver/remote/errorhandler.py:249\u001b[0m, in \u001b[0;36mErrorHandler.check_response\u001b[0;34m(self, response)\u001b[0m\n\u001b[1;32m    247\u001b[0m         alert_text \u001b[38;5;241m=\u001b[39m value[\u001b[38;5;124m\"\u001b[39m\u001b[38;5;124malert\u001b[39m\u001b[38;5;124m\"\u001b[39m]\u001b[38;5;241m.\u001b[39mget(\u001b[38;5;124m\"\u001b[39m\u001b[38;5;124mtext\u001b[39m\u001b[38;5;124m\"\u001b[39m)\n\u001b[1;32m    248\u001b[0m     \u001b[38;5;28;01mraise\u001b[39;00m exception_class(message, screen, stacktrace, alert_text)  \u001b[38;5;66;03m# type: ignore[call-arg]  # mypy is not smart enough here\u001b[39;00m\n\u001b[0;32m--> 249\u001b[0m \u001b[38;5;28;01mraise\u001b[39;00m exception_class(message, screen, stacktrace)\n",
      "\u001b[0;31mNoSuchElementException\u001b[0m: Message: no such element: Unable to locate element: {\"method\":\"xpath\",\"selector\":\".//div[@data-scroller-first='']\"}\n  (Session info: headless chrome=109.0.5414.74)\nStacktrace:\n#0 0x561f4886ea74 <unknown>\n#1 0x561f48648b62 <unknown>\n#2 0x561f48684703 <unknown>\n#3 0x561f48684801 <unknown>\n#4 0x561f4867a138 <unknown>\n#5 0x561f486a6c6d <unknown>\n#6 0x561f4867a062 <unknown>\n#7 0x561f486a6ede <unknown>\n#8 0x561f486beb2d <unknown>\n#9 0x561f486a69e3 <unknown>\n#10 0x561f486781ad <unknown>\n#11 0x561f486796f3 <unknown>\n#12 0x561f488b524d <unknown>\n#13 0x561f488b7785 <unknown>\n#14 0x561f488b7152 <unknown>\n#15 0x561f488b7ee5 <unknown>\n#16 0x561f488a2886 <unknown>\n#17 0x561f488b82d1 <unknown>\n#18 0x561f48895f42 <unknown>\n#19 0x561f488d3597 <unknown>\n#20 0x561f488d3760 <unknown>\n#21 0x561f488ee08d <unknown>\n#22 0x7f3708a9f8fd <unknown>\n"
     ]
    }
   ],
   "source": [
    "class temp:\n",
    "    def __init__(self):\n",
    "        self.OPTIONS = webdriver.ChromeOptions()\n",
    "        self.OPTIONS.add_argument(\"--disable-notifications\")\n",
    "        self.OPTIONS.add_argument(\"--disable-popup-blocking\")\n",
    "        self.OPTIONS.add_argument(\"--headless\")\n",
    "        self.OPTIONS.add_argument(\"--disable-gpu\")\n",
    "\n",
    "        self.DRIVER = webdriver.Chrome(options=self.OPTIONS)\n",
    "        self.DRIVER.implicitly_wait(10)\n",
    "\n",
    "    def check(self):\n",
    "        self.DRIVER.get(\"https://www.reddit.com/r/AskReddit/comments/10ej6ap/people_of_reddit_who_are_anti_weed_why/\")\n",
    "        base = self.DRIVER.find_element(By.XPATH, \".//div[@data-adclicklocation='title']\")\n",
    "        first = base.find_element(By.XPATH, \".//div[@data-scroller-first]\")\n",
    "        parent = first.find_element(By.XPATH, \".//..\")\n",
    "        print(parent.get_attribute(\"class\"))\n",
    "\n",
    "test = temp()\n",
    "test.check()"
   ]
  },
  {
   "cell_type": "code",
   "execution_count": 36,
   "id": "584c1474-2f55-486e-9004-0914d8430d1b",
   "metadata": {
    "collapsed": false
   },
   "outputs": [
    {
     "name": "stdout",
     "output_type": "stream",
     "text": [
      "('What are some places where no children should be allowed?', 'https://www.reddit.com/r/AskReddit/comments/1072tg7/what_are_some_places_where_no_children_should_be/')\n"
     ]
    },
    {
     "name": "stdout",
     "output_type": "stream",
     "text": [
      "('What are some red flags in an interview that reveals the job is toxic?', 'https://www.reddit.com/r/AskReddit/comments/106i2pp/what_are_some_red_flags_in_an_interview_that/')\n",
      "('What country has the most unappetizing cuisines?', 'https://www.reddit.com/r/AskReddit/comments/106s4zo/what_country_has_the_most_unappetizing_cuisines/')\n",
      "('Mens of reddit, how do you feel about dating a woman taller than you?', 'https://www.reddit.com/r/AskReddit/comments/107f87f/mens_of_reddit_how_do_you_feel_about_dating_a/')\n",
      "('What celebrities do you hate?', 'https://www.reddit.com/r/AskReddit/comments/106wyal/what_celebrities_do_you_hate/')\n",
      "('What instantly makes you dislike someone?', 'https://www.reddit.com/r/AskReddit/comments/1079bg6/what_instantly_makes_you_dislike_someone/')\n"
     ]
    },
    {
     "name": "stdout",
     "output_type": "stream",
     "text": [
      "(\"What's a movie you watched several times, but you still enjoy it?\", 'https://www.reddit.com/r/AskReddit/comments/106vku9/whats_a_movie_you_watched_several_times_but_you/')\n",
      "(\"What are the WORST candy's in the world?\", 'https://www.reddit.com/r/AskReddit/comments/106z7f2/what_are_the_worst_candys_in_the_world/')\n",
      "('What are some of the creepiest Rabbit Holes you have come across?', 'https://www.reddit.com/r/AskReddit/comments/106yton/what_are_some_of_the_creepiest_rabbit_holes_you/')\n",
      "('What is ok to be addicted to?', 'https://www.reddit.com/r/AskReddit/comments/106s5u7/what_is_ok_to_be_addicted_to/')\n",
      "(\"What's the hardest lesson you've learned as an adult?\", 'https://www.reddit.com/r/AskReddit/comments/107hf84/whats_the_hardest_lesson_youve_learned_as_an_adult/')\n"
     ]
    },
    {
     "name": "stdout",
     "output_type": "stream",
     "text": [
      "('Your cause of death and death date is written on a piece of paper. Do you want to know, and why or why not?', 'https://www.reddit.com/r/AskReddit/comments/107dp1t/your_cause_of_death_and_death_date_is_written_on/')\n",
      "(\"What's something from the early 2000s that deserves a comeback?\", 'https://www.reddit.com/r/AskReddit/comments/107gn9m/whats_something_from_the_early_2000s_that/')\n"
     ]
    }
   ],
   "source": [
    "class RedditScrapper:\n",
    "    OPTIONS = None\n",
    "    DRIVER = None\n",
    "    \n",
    "    def __init__(self):\n",
    "        self.OPTIONS = webdriver.ChromeOptions()\n",
    "        self.OPTIONS.add_argument(\"--disable-notifications\")\n",
    "        self.OPTIONS.add_argument(\"--disable-popup-blocking\")\n",
    "        self.OPTIONS.add_argument(\"--headless\")\n",
    "        self.OPTIONS.add_argument(\"--disable-gpu\")\n",
    "\n",
    "        self.DRIVER = webdriver.Chrome(options=self.OPTIONS)\n",
    "        self.DRIVER.implicitly_wait(10)\n",
    "\n",
    "    def scrapUrl(self, url):\n",
    "        self.DRIVER.get(url)\n",
    "        content = self.DRIVER.find_element(By.ID, \"AppRouter-main-content\")\n",
    "        return content\n",
    "\n",
    "\n",
    "    def getAllPosts(self, content):  # parent div of data-scroller-first\n",
    "        xpath = \".//div[4]/div[1]/div[4]\"\n",
    "        return content.find_element(By.XPATH, xpath)\n",
    "\n",
    "    def getPost(self, posts, idx):  # iterate from 1\n",
    "        xpath = f\".//div[{idx}]\"\n",
    "        return posts.find_element(By.XPATH, xpath)\n",
    "        \n",
    "\n",
    "    def getPostData(self, post):\n",
    "        xpath = \"div/div/div[3]/div[2]/div[1]/a\"\n",
    "        link = post.find_element(By.XPATH, xpath).get_attribute(\"href\")\n",
    "        \n",
    "        xpath = \"div/div/div[3]/div[2]/div[1]/a/div/h3\"\n",
    "        title = post.find_element(By.XPATH, xpath).text\n",
    "\n",
    "\n",
    "        return title, link\n",
    "\n",
    "\n",
    "redditScrapper = RedditScrapper()\n",
    "content = redditScrapper.scrapUrl(\"https://reddit.com/r/AskReddit/\")\n",
    "all_posts = redditScrapper.getAllPosts(content)\n",
    "\n",
    "for i in range(2, 20):\n",
    "    try:\n",
    "        post = redditScrapper.getPost(all_posts, i)\n",
    "        print(redditScrapper.getPostData(post))\n",
    "    except NoSuchElementException:\n",
    "        pass\n"
   ]
  },
  {
   "cell_type": "code",
   "execution_count": 2,
   "id": "dc846d27-b3b9-48f2-b0cb-7a014b1d2064",
   "metadata": {
    "collapsed": false
   },
   "outputs": [
    {
     "name": "stdout",
     "output_type": "stream",
     "text": [
      "[2, 3, 4, 5, 6, 7, 8, 9]\n"
     ]
    }
   ],
   "source": [
    "l = [i for i in range(0,10)][1:]\n",
    "print(l)"
   ]
  },
  {
   "cell_type": "code",
   "execution_count": null,
   "id": "6dd8e8df-103e-4a34-8b75-bf391e6b9853",
   "metadata": {
    "collapsed": false
   },
   "outputs": [],
   "source": []
  }
 ],
 "metadata": {
  "kernelspec": {
   "argv": [
    "python",
    "-m",
    "ipykernel_launcher",
    "-f",
    "{connection_file}"
   ],
   "display_name": "Python 3 (ipykernel)",
   "env": null,
   "interrupt_mode": "signal",
   "language": "python",
   "metadata": {
    "debugger": true
   },
   "name": "python3"
  },
  "name": "Untitled.ipynb"
 },
 "nbformat": 4,
 "nbformat_minor": 5
}
